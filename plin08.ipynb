{
 "cells": [
  {
   "cell_type": "code",
   "execution_count": 1,
   "source": [
    "import numpy as np"
   ],
   "outputs": [],
   "metadata": {}
  },
  {
   "cell_type": "code",
   "execution_count": 8,
   "source": [
    "#Soma de vetores\r\n",
    "x = np.array([1, 2, 3, 4])\r\n",
    "y = np.array([5, 6, 7, 8])\r\n",
    "soma = x + y\r\n",
    "soma\r\n",
    "\r\n",
    "#Função soma vetores\r\n",
    "def sum(x, y):\r\n",
    "  x = np.random.randint(10, size=3)\r\n",
    "  print('x=', x)\r\n",
    "  y = np.random.randint(10, size=3)\r\n",
    "  print('y=', y)\r\n",
    "  eq = x+y\r\n",
    "  return eq\r\n",
    "sum(x, y)"
   ],
   "outputs": [
    {
     "output_type": "stream",
     "name": "stdout",
     "text": [
      "x= [9 0 4]\n",
      "y= [4 7 0]\n"
     ]
    },
    {
     "output_type": "execute_result",
     "data": {
      "text/plain": [
       "array([13,  7,  4])"
      ]
     },
     "metadata": {},
     "execution_count": 8
    }
   ],
   "metadata": {}
  },
  {
   "cell_type": "code",
   "execution_count": 10,
   "source": [
    "#Produto escalar-vetor\r\n",
    "x = np.array([1, 2, 3, 4])\r\n",
    "a = float(2)\r\n",
    "prod = np.dot(a, x)\r\n",
    "prod\r\n",
    "\r\n",
    "#Função produto escalar-vetor\r\n",
    "def escVet(x, a):\r\n",
    "  x = np.random.randint(10, size=3)\r\n",
    "  print('x=', x)\r\n",
    "  a = np.random.randint(0, 10)\r\n",
    "  print('a=', a)\r\n",
    "  prod = np.dot(a, x)\r\n",
    "  return prod\r\n",
    "escVet(x, a)"
   ],
   "outputs": [
    {
     "output_type": "stream",
     "name": "stdout",
     "text": [
      "x= [0 9 0]\n",
      "a= 7\n"
     ]
    },
    {
     "output_type": "execute_result",
     "data": {
      "text/plain": [
       "array([ 0, 63,  0])"
      ]
     },
     "metadata": {},
     "execution_count": 10
    }
   ],
   "metadata": {}
  },
  {
   "cell_type": "code",
   "execution_count": 11,
   "source": [
    "#Produto vetor-vetor\r\n",
    "x = np.array([1, 2, 3, 4])\r\n",
    "y = np.array([5, 6, 7, 8])\r\n",
    "mult = x * y\r\n",
    "mult\r\n",
    "\r\n",
    "#Função produto vetor-vetor\r\n",
    "def vetVet(x, y):\r\n",
    "  x = np.random.randint(10, size=3)\r\n",
    "  print('x=', x)\r\n",
    "  y = np.random.randint(10, size=3)\r\n",
    "  print('y=', y)\r\n",
    "  mult = np.inner(x, y)\r\n",
    "  return mult\r\n",
    "vetVet(x, y)"
   ],
   "outputs": [
    {
     "output_type": "stream",
     "name": "stdout",
     "text": [
      "x= [7 7 4]\n",
      "y= [6 5 1]\n"
     ]
    },
    {
     "output_type": "execute_result",
     "data": {
      "text/plain": [
       "81"
      ]
     },
     "metadata": {},
     "execution_count": 11
    }
   ],
   "metadata": {}
  },
  {
   "cell_type": "code",
   "execution_count": 12,
   "source": [
    "#Combinação linear\r\n",
    "x = np.array([1, 2, 3, 4])\r\n",
    "y = np.array([2, 3, 4, 5])\r\n",
    "z = np.array([3, 4, 5, 6])\r\n",
    "xs = [x, y, z]\r\n",
    "\r\n",
    "a = float(2)\r\n",
    "b = float(3)\r\n",
    "c = float(4)\r\n",
    "d = float(5)\r\n",
    "cs = [a, b, c, d]\r\n",
    "\r\n",
    "comb1 = list(map(lambda x: x * a, xs))\r\n",
    "comb2 = list(map(lambda x: x * b, xs))\r\n",
    "comb3 = list(map(lambda x: x * c, xs))\r\n",
    "comb4 = list(map(lambda x: x * d, xs))\r\n",
    "comb = comb1 + comb2 + comb3 + comb4\r\n",
    "\r\n",
    "total = np.sum(comb)\r\n",
    "total"
   ],
   "outputs": [
    {
     "output_type": "execute_result",
     "data": {
      "text/plain": [
       "588.0"
      ]
     },
     "metadata": {},
     "execution_count": 12
    }
   ],
   "metadata": {}
  }
 ],
 "metadata": {
  "orig_nbformat": 4,
  "language_info": {
   "name": "python",
   "version": "3.9.5",
   "mimetype": "text/x-python",
   "codemirror_mode": {
    "name": "ipython",
    "version": 3
   },
   "pygments_lexer": "ipython3",
   "nbconvert_exporter": "python",
   "file_extension": ".py"
  },
  "kernelspec": {
   "name": "python3",
   "display_name": "Python 3.9.5 64-bit"
  },
  "interpreter": {
   "hash": "ac59ebe37160ed0dfa835113d9b8498d9f09ceb179beaac4002f036b9467c963"
  }
 },
 "nbformat": 4,
 "nbformat_minor": 2
}