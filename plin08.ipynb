{
  "nbformat": 4,
  "nbformat_minor": 2,
  "metadata": {
    "colab": {
      "name": "pLin.ipynb",
      "provenance": [],
      "collapsed_sections": []
    },
    "kernelspec": {
      "name": "python3",
      "display_name": "Python 3.9.5 64-bit"
    },
    "language_info": {
      "name": "python",
      "version": "3.9.5"
    },
    "interpreter": {
      "hash": "ac59ebe37160ed0dfa835113d9b8498d9f09ceb179beaac4002f036b9467c963"
    }
  },
  "cells": [
    {
      "cell_type": "code",
      "execution_count": 3,
      "source": [
        "import numpy as np"
      ],
      "outputs": [],
      "metadata": {
        "id": "WOnxdlA3zr5I"
      }
    },
    {
      "cell_type": "code",
      "execution_count": null,
      "source": [
        "#Soma de vetores\r\n",
        "x = np.array([1, 2, 3, 4])\r\n",
        "y = np.array([5, 6, 7, 8])\r\n",
        "soma = x + y\r\n",
        "soma\r\n",
        "\r\n",
        "#Função soma vetores\r\n",
        "def sum(x, y):\r\n",
        "  x = np.random.randint(10, size=3)\r\n",
        "  print('x=', x)\r\n",
        "  y = np.random.randint(10, size=3)\r\n",
        "  print('y=', y)\r\n",
        "  eq = x+y\r\n",
        "  return eq\r\n",
        "sum(x, y)"
      ],
      "outputs": [
        {
          "output_type": "stream",
          "name": "stdout",
          "text": [
            "x= [6 9 8]\n",
            "y= [2 9 8]\n"
          ]
        },
        {
          "output_type": "execute_result",
          "data": {
            "text/plain": [
              "array([ 8, 18, 16])"
            ]
          },
          "metadata": {},
          "execution_count": 32
        }
      ],
      "metadata": {
        "colab": {
          "base_uri": "https://localhost:8080/"
        },
        "id": "A64F8pxU-qYz",
        "outputId": "13523ced-26ea-4848-834d-bdb813649b53"
      }
    },
    {
      "cell_type": "code",
      "execution_count": null,
      "source": [
        "#Produto escalar-vetor\r\n",
        "x = np.array([1, 2, 3, 4])\r\n",
        "a = float(2)\r\n",
        "prod = np.dot(a, x)\r\n",
        "prod\r\n",
        "\r\n",
        "#Função produto escalar-vetor\r\n",
        "def escVet(x, a):\r\n",
        "  x = np.random.randint(10, size=3)\r\n",
        "  print('x=', x)\r\n",
        "  a = np.random.randint(0, 10)\r\n",
        "  print('a=', a)\r\n",
        "  prod = np.dot(a, x)\r\n",
        "  return prod\r\n",
        "escVet(x, a)"
      ],
      "outputs": [
        {
          "output_type": "stream",
          "name": "stdout",
          "text": [
            "x= [0 5 5]\n",
            "a= 9\n"
          ]
        },
        {
          "output_type": "execute_result",
          "data": {
            "text/plain": [
              "array([ 0, 45, 45])"
            ]
          },
          "metadata": {},
          "execution_count": 40
        }
      ],
      "metadata": {
        "colab": {
          "base_uri": "https://localhost:8080/"
        },
        "id": "-v5-4NoZz8Ub",
        "outputId": "01cff7a4-68ef-47e3-fbd6-678394aefaa3"
      }
    },
    {
      "cell_type": "code",
      "execution_count": null,
      "source": [
        "#Produto vetor-vetor\r\n",
        "x = np.array([1, 2, 3, 4])\r\n",
        "y = np.array([5, 6, 7, 8])\r\n",
        "mult = x * y\r\n",
        "mult\r\n",
        "\r\n",
        "#Função produto vetor-vetor\r\n",
        "def vetVet(x, y):\r\n",
        "  x = np.random.randint(10, size=3)\r\n",
        "  print('x=', x)\r\n",
        "  y = np.random.randint(10, size=3)\r\n",
        "  print('y=', y)\r\n",
        "  mult = np.inner(x, y)\r\n",
        "  return mult\r\n",
        "vetVet(x, y)"
      ],
      "outputs": [
        {
          "output_type": "stream",
          "name": "stdout",
          "text": [
            "x= [0 3 3]\n",
            "y= [4 2 4]\n"
          ]
        },
        {
          "output_type": "execute_result",
          "data": {
            "text/plain": [
              "18"
            ]
          },
          "metadata": {},
          "execution_count": 44
        }
      ],
      "metadata": {
        "colab": {
          "base_uri": "https://localhost:8080/"
        },
        "id": "E-SQRdBU2XLf",
        "outputId": "fc0b7fe0-5104-448b-d547-adfb7b8a7c8e"
      }
    },
    {
      "cell_type": "code",
      "execution_count": 39,
      "source": [
        "#Combinação linear\r\n",
        "x = np.array([1, 2, 3, 4])\r\n",
        "y = np.array([2, 3, 4, 5])\r\n",
        "z = np.array([3, 4, 5, 6])\r\n",
        "xs = [x, y, z]\r\n",
        "\r\n",
        "a = float(2)\r\n",
        "b = float(3)\r\n",
        "c = float(4)\r\n",
        "d = float(5)\r\n",
        "cs = [a, b, c, d]\r\n",
        "\r\n",
        "comb1 = list(map(lambda x: x * a, xs))\r\n",
        "comb2 = list(map(lambda x: x * b, xs))\r\n",
        "comb3 = list(map(lambda x: x * c, xs))\r\n",
        "comb4 = list(map(lambda x: x * d, xs))\r\n",
        "comb = comb1 + comb2 + comb3 + comb4\r\n",
        "\r\n",
        "total = np.sum(comb)\r\n",
        "total"
      ],
      "outputs": [
        {
          "output_type": "execute_result",
          "data": {
            "text/plain": [
              "588.0"
            ]
          },
          "metadata": {},
          "execution_count": 39
        }
      ],
      "metadata": {
        "colab": {
          "base_uri": "https://localhost:8080/"
        },
        "id": "2_w6zOhe3yRX",
        "outputId": "8081ce32-d4b0-419b-a741-be140023d1b8"
      }
    },
    {
      "cell_type": "code",
      "execution_count": 61,
      "source": [
        "#Matrizes\r\n",
        "a = np.matrix('1 2; 3 4')\r\n",
        "a[1, 1]\r\n",
        "\r\n",
        "l = int(input('Digite o número de linhas: '))\r\n",
        "c = int(input('Digite o número de colunas: '))\r\n",
        "gnr = np.random.default_rng(0)\r\n",
        "mat = gnr.integers(10, size=(l, c))\r\n",
        "print(mat)\r\n",
        "\r\n",
        "def buscaElemento(i, j):\r\n",
        "  i = int(input('Digite a linha que deseja buscar: '))\r\n",
        "  j = int(input('Digite a coluna que deseja buscar: '))\r\n",
        "  if i <= l and j <= c:\r\n",
        "    print(mat[i, j])\r\n",
        "  else:\r\n",
        "    print('Erro')\r\n",
        "\r\n",
        "buscaElemento(i, j)"
      ],
      "outputs": [
        {
          "output_type": "stream",
          "name": "stdout",
          "text": [
            "Digite o número de linhas: 3\n",
            "Digite o número de colunas: 3\n",
            "[[8 6 5]\n",
            " [2 3 0]\n",
            " [0 0 1]]\n",
            "Digite a linha que deseja buscar: 1\n",
            "Digite a coluna que deseja buscar: 1\n",
            "3\n"
          ]
        }
      ],
      "metadata": {
        "id": "sIGEYsg49Y1o",
        "colab": {
          "base_uri": "https://localhost:8080/"
        },
        "outputId": "e7f1d26d-cd73-4803-8639-82221dd1a156"
      }
    },
    {
      "cell_type": "code",
      "execution_count": null,
      "source": [
        "#Produto matriz-vetor\r\n"
      ],
      "outputs": [],
      "metadata": {
        "id": "DcHgFv5Ez05t"
      }
    }
  ]
}