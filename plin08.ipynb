{
  "nbformat": 4,
  "nbformat_minor": 0,
  "metadata": {
    "colab": {
      "name": "pLin.ipynb",
      "provenance": [],
      "collapsed_sections": []
    },
    "kernelspec": {
      "name": "python3",
      "display_name": "Python 3"
    },
    "language_info": {
      "name": "python"
    }
  },
  "cells": [
    {
      "cell_type": "code",
      "metadata": {
        "id": "WOnxdlA3zr5I"
      },
      "source": [
        "import numpy as np"
      ],
      "execution_count": 3,
      "outputs": []
    },
    {
      "cell_type": "code",
      "metadata": {
        "colab": {
          "base_uri": "https://localhost:8080/"
        },
        "id": "A64F8pxU-qYz",
        "outputId": "13523ced-26ea-4848-834d-bdb813649b53"
      },
      "source": [
        "#Soma de vetores\n",
        "x = np.array([1, 2, 3, 4])\n",
        "y = np.array([5, 6, 7, 8])\n",
        "soma = x + y\n",
        "soma\n",
        "\n",
        "#Função soma vetores\n",
        "def sum(x, y):\n",
        "  x = np.random.randint(10, size=3)\n",
        "  print('x=', x)\n",
        "  y = np.random.randint(10, size=3)\n",
        "  print('y=', y)\n",
        "  eq = x+y\n",
        "  return eq\n",
        "sum(x, y)"
      ],
      "execution_count": null,
      "outputs": [
        {
          "output_type": "stream",
          "name": "stdout",
          "text": [
            "x= [6 9 8]\n",
            "y= [2 9 8]\n"
          ]
        },
        {
          "output_type": "execute_result",
          "data": {
            "text/plain": [
              "array([ 8, 18, 16])"
            ]
          },
          "metadata": {},
          "execution_count": 32
        }
      ]
    },
    {
      "cell_type": "code",
      "metadata": {
        "colab": {
          "base_uri": "https://localhost:8080/"
        },
        "id": "-v5-4NoZz8Ub",
        "outputId": "01cff7a4-68ef-47e3-fbd6-678394aefaa3"
      },
      "source": [
        "#Produto escalar-vetor\n",
        "x = np.array([1, 2, 3, 4])\n",
        "a = float(2)\n",
        "prod = np.dot(a, x)\n",
        "prod\n",
        "\n",
        "#Função produto escalar-vetor\n",
        "def escVet(x, a):\n",
        "  x = np.random.randint(10, size=3)\n",
        "  print('x=', x)\n",
        "  a = np.random.randint(0, 10)\n",
        "  print('a=', a)\n",
        "  prod = np.dot(a, x)\n",
        "  return prod\n",
        "escVet(x, a)"
      ],
      "execution_count": null,
      "outputs": [
        {
          "output_type": "stream",
          "name": "stdout",
          "text": [
            "x= [0 5 5]\n",
            "a= 9\n"
          ]
        },
        {
          "output_type": "execute_result",
          "data": {
            "text/plain": [
              "array([ 0, 45, 45])"
            ]
          },
          "metadata": {},
          "execution_count": 40
        }
      ]
    },
    {
      "cell_type": "code",
      "metadata": {
        "colab": {
          "base_uri": "https://localhost:8080/"
        },
        "id": "E-SQRdBU2XLf",
        "outputId": "fc0b7fe0-5104-448b-d547-adfb7b8a7c8e"
      },
      "source": [
        "#Produto vetor-vetor\n",
        "x = np.array([1, 2, 3, 4])\n",
        "y = np.array([5, 6, 7, 8])\n",
        "mult = x * y\n",
        "mult\n",
        "\n",
        "#Função produto vetor-vetor\n",
        "def vetVet(x, y):\n",
        "  x = np.random.randint(10, size=3)\n",
        "  print('x=', x)\n",
        "  y = np.random.randint(10, size=3)\n",
        "  print('y=', y)\n",
        "  mult = np.inner(x, y)\n",
        "  return mult\n",
        "vetVet(x, y)"
      ],
      "execution_count": null,
      "outputs": [
        {
          "output_type": "stream",
          "name": "stdout",
          "text": [
            "x= [0 3 3]\n",
            "y= [4 2 4]\n"
          ]
        },
        {
          "output_type": "execute_result",
          "data": {
            "text/plain": [
              "18"
            ]
          },
          "metadata": {},
          "execution_count": 44
        }
      ]
    },
    {
      "cell_type": "code",
      "metadata": {
        "colab": {
          "base_uri": "https://localhost:8080/"
        },
        "id": "2_w6zOhe3yRX",
        "outputId": "8081ce32-d4b0-419b-a741-be140023d1b8"
      },
      "source": [
        "#Combinação linear\n",
        "x = np.array([1, 2, 3, 4])\n",
        "y = np.array([2, 3, 4, 5])\n",
        "z = np.array([3, 4, 5, 6])\n",
        "xs = [x, y, z]\n",
        "\n",
        "a = float(2)\n",
        "b = float(3)\n",
        "c = float(4)\n",
        "d = float(5)\n",
        "cs = [a, b, c, d]\n",
        "\n",
        "comb1 = list(map(lambda x: x * a, xs))\n",
        "comb2 = list(map(lambda x: x * b, xs))\n",
        "comb3 = list(map(lambda x: x * c, xs))\n",
        "comb4 = list(map(lambda x: x * d, xs))\n",
        "comb = comb1 + comb2 + comb3 + comb4\n",
        "\n",
        "total = np.sum(comb)\n",
        "total"
      ],
      "execution_count": 39,
      "outputs": [
        {
          "output_type": "execute_result",
          "data": {
            "text/plain": [
              "588.0"
            ]
          },
          "metadata": {},
          "execution_count": 39
        }
      ]
    },
    {
      "cell_type": "code",
      "metadata": {
        "id": "sIGEYsg49Y1o",
        "colab": {
          "base_uri": "https://localhost:8080/"
        },
        "outputId": "e7f1d26d-cd73-4803-8639-82221dd1a156"
      },
      "source": [
        "#Matrizes\n",
        "a = np.matrix('1 2; 3 4')\n",
        "a[1, 1]\n",
        "\n",
        "l = int(input('Digite o número de linhas: '))\n",
        "c = int(input('Digite o número de colunas: '))\n",
        "gnr = np.random.default_rng(0)\n",
        "mat = gnr.integers(10, size=(l, c))\n",
        "print(mat)\n",
        "\n",
        "def buscaElemento(i, j):\n",
        "  i = int(input('Digite a linha que deseja buscar: '))\n",
        "  j = int(input('Digite a coluna que deseja buscar: '))\n",
        "  if i <= l and j <= c:\n",
        "    print(mat[i, j])\n",
        "  else:\n",
        "    print('Erro')\n",
        "\n",
        "buscaElemento(i, j)"
      ],
      "execution_count": 61,
      "outputs": [
        {
          "output_type": "stream",
          "name": "stdout",
          "text": [
            "Digite o número de linhas: 3\n",
            "Digite o número de colunas: 3\n",
            "[[8 6 5]\n",
            " [2 3 0]\n",
            " [0 0 1]]\n",
            "Digite a linha que deseja buscar: 1\n",
            "Digite a coluna que deseja buscar: 1\n",
            "3\n"
          ]
        }
      ]
    },
    {
      "cell_type": "code",
      "metadata": {
        "colab": {
          "base_uri": "https://localhost:8080/"
        },
        "id": "DcHgFv5Ez05t",
        "outputId": "74626ada-db26-4ed5-c7d5-dde330a60780"
      },
      "source": [
        "#Produto matriz-vetor\n",
        "\n",
        "l = int(input('Digite o número de linhas: '))\n",
        "c = int(input('Digite o número de colunas: '))\n",
        "gnr = np.random.default_rng(0)\n",
        "mat = gnr.integers(10, size=(l, c))\n",
        "vet = gnr.integers(10, size=(1, c))\n",
        "print(' ')\n",
        "print(mat)\n",
        "print(' ')\n",
        "print(vet)\n",
        "print(' ')\n",
        "\n",
        "for x in range(c):\n",
        "  teste = vet[:, x] * mat[:, x]\n",
        "  print(teste)\n",
        "\n",
        "print(' ')\n",
        "prod = (vet * mat[:, 0]) + (vet * mat[:, 1]) + (vet * mat[:, 2])\n",
        "print(prod)"
      ],
      "execution_count": 133,
      "outputs": [
        {
          "output_type": "stream",
          "name": "stdout",
          "text": [
            "Digite o número de linhas: 3\n",
            "Digite o número de colunas: 3\n",
            " \n",
            "[[8 6 5]\n",
            " [2 3 0]\n",
            " [0 0 1]]\n",
            " \n",
            "[[8 6 9]]\n",
            " \n",
            "[64 16  0]\n",
            "[36 18  0]\n",
            "[45  0  9]\n",
            " \n",
            "[[152  30   9]]\n"
          ]
        }
      ]
    },
    {
      "cell_type": "code",
      "metadata": {
        "colab": {
          "base_uri": "https://localhost:8080/"
        },
        "id": "8xiqZOEXOFZ_",
        "outputId": "f26e2eff-7de7-4493-fa6d-eae5d958b290"
      },
      "source": [
        "#Produto vetor-matriz\n",
        "\n",
        "l = int(input('Digite o número de linhas: '))\n",
        "c = int(input('Digite o número de colunas: '))\n",
        "gnr = np.random.default_rng(0)\n",
        "mat = gnr.integers(10, size=(l, c))\n",
        "vet = gnr.integers(10, size=(1, c))\n",
        "print(' ')\n",
        "print(mat)\n",
        "print(' ')\n",
        "print(vet)\n",
        "print(' ')\n",
        "\n",
        "for x in range(c):\n",
        "  teste = vet[:, x] * mat[x, :]\n",
        "  print(teste)\n",
        "\n",
        "print(' ')\n",
        "prod = (vet[:, 0] * mat[0, :]) + (vet[:, 1] * mat[1, :]) + (vet[:, 2] * mat[2, :])\n",
        "print(prod)"
      ],
      "execution_count": 140,
      "outputs": [
        {
          "output_type": "stream",
          "name": "stdout",
          "text": [
            "Digite o número de linhas: 3\n",
            "Digite o número de colunas: 3\n",
            " \n",
            "[[8 6 5]\n",
            " [2 3 0]\n",
            " [0 0 1]]\n",
            " \n",
            "[[8 6 9]]\n",
            " \n",
            "[64 48 40]\n",
            "[12 18  0]\n",
            "[0 0 9]\n",
            " \n",
            "[76 66 49]\n"
          ]
        }
      ]
    }
  ]
}